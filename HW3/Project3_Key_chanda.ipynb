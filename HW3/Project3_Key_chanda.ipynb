{
  "nbformat": 4,
  "nbformat_minor": 0,
  "metadata": {
    "colab": {
      "name": "Project3_Key.ipynb",
      "provenance": [],
      "collapsed_sections": [],
      "include_colab_link": true
    },
    "kernelspec": {
      "name": "python3",
      "display_name": "Python 3"
    },
    "language_info": {
      "name": "python"
    }
  },
  "cells": [
    {
      "cell_type": "markdown",
      "metadata": {
        "id": "view-in-github",
        "colab_type": "text"
      },
      "source": [
        "<a href=\"https://colab.research.google.com/github/chandadunani/IDS/blob/main/HW3/Project3_Key_chanda.ipynb\" target=\"_parent\"><img src=\"https://colab.research.google.com/assets/colab-badge.svg\" alt=\"Open In Colab\"/></a>"
      ]
    },
    {
      "cell_type": "markdown",
      "source": [
        "# **Project 3: Statistical Analysis on Factors Influencing Life Expectancy**"
      ],
      "metadata": {
        "id": "M36c_eMlj0e_"
      }
    },
    {
      "cell_type": "code",
      "source": [
        "pip install mysql-connector-python"
      ],
      "metadata": {
        "colab": {
          "base_uri": "https://localhost:8080/"
        },
        "id": "5e56CzzPkX60",
        "outputId": "79690261-3e82-400f-fcab-54be8abc054c"
      },
      "execution_count": 2,
      "outputs": [
        {
          "output_type": "stream",
          "name": "stdout",
          "text": [
            "Collecting mysql-connector-python\n",
            "  Downloading mysql_connector_python-8.0.29-cp37-cp37m-manylinux1_x86_64.whl (25.2 MB)\n",
            "\u001b[K     |████████████████████████████████| 25.2 MB 1.3 MB/s \n",
            "\u001b[?25hRequirement already satisfied: protobuf>=3.0.0 in /usr/local/lib/python3.7/dist-packages (from mysql-connector-python) (3.17.3)\n",
            "Requirement already satisfied: six>=1.9 in /usr/local/lib/python3.7/dist-packages (from protobuf>=3.0.0->mysql-connector-python) (1.15.0)\n",
            "Installing collected packages: mysql-connector-python\n",
            "Successfully installed mysql-connector-python-8.0.29\n"
          ]
        }
      ]
    },
    {
      "cell_type": "code",
      "source": [
        "import mysql.connector as sql\n",
        "\n",
        "import pandas as pd\n",
        "import pandas as pd\n",
        "from tabulate import tabulate"
      ],
      "metadata": {
        "id": "WIstGHCcj66j"
      },
      "execution_count": 3,
      "outputs": []
    },
    {
      "cell_type": "code",
      "source": [
        "# Connect to MySQL and execute a query\n",
        "\n",
        "def execute_query(query):\n",
        "   db_connection = sql.connect(host='208.109.18.154', database='ids7db', user='ids7', password='Btb2953')\n",
        "   db_cursor = db_connection.cursor()\n",
        "   db_cursor.execute(query)\n",
        "   results = db_cursor.fetchall()\n",
        "\n",
        "   return results\n"
      ],
      "metadata": {
        "id": "EzJTGihepO17"
      },
      "execution_count": 4,
      "outputs": []
    },
    {
      "cell_type": "code",
      "source": [
        "# Create a dataframe for the cleaned life expectancy dataset\n",
        "# We are assuming all missing values were imputed in MySQL\n",
        "\n",
        "# execute query and fetch results\n",
        "results = execute_query('SELECT * FROM Life_Expectancy')\n",
        "\n",
        "# create the dataframe\n",
        "LifeExpectancyDF = pd.DataFrame(results)\n",
        "\n",
        "# name the columns\n",
        "LifeExpectancyDF.columns = ['Country', 'Year', 'Life_Expectancy','Adult_Mortality','Alcohol',\n",
        "                            'Percentage_Expenditure','BMI','Total_Expenditure','GDP','Population','Schooling']\n",
        "\n",
        "# print a few rows\n",
        "LifeExpectancyDF.head()\n",
        "\n",
        "\n"
      ],
      "metadata": {
        "colab": {
          "base_uri": "https://localhost:8080/",
          "height": 206
        },
        "id": "Zx0_yXmakhst",
        "outputId": "abec2b28-78f3-4e41-a019-116f0d2385bf"
      },
      "execution_count": 5,
      "outputs": [
        {
          "output_type": "execute_result",
          "data": {
            "text/plain": [
              "       Country  Year  Life_Expectancy  Adult_Mortality  Alcohol  \\\n",
              "0  Afghanistan  2010             58.8              279     0.01   \n",
              "1  Afghanistan  2011             59.2              275     0.01   \n",
              "2  Afghanistan  2012             59.5              272     0.01   \n",
              "3  Afghanistan  2013             59.9              268     0.01   \n",
              "4  Afghanistan  2014             59.9              271     0.01   \n",
              "\n",
              "   Percentage_Expenditure   BMI  Total_Expenditure         GDP  Population  \\\n",
              "0               79.679367  16.7               9.20  553.328940     2883167   \n",
              "1                7.097109  17.2               7.87   63.537231     2978599   \n",
              "2               78.184215  17.6               8.52  669.959000     3696958   \n",
              "3               73.219243  18.1               8.13  631.744976    31731688   \n",
              "4               73.523582  18.6               8.18  612.696514      327582   \n",
              "\n",
              "   Schooling  \n",
              "0        9.2  \n",
              "1        9.5  \n",
              "2        9.8  \n",
              "3        9.9  \n",
              "4       10.0  "
            ],
            "text/html": [
              "\n",
              "  <div id=\"df-996aa237-5cbc-4794-9ca7-fd9a3f8b2e90\">\n",
              "    <div class=\"colab-df-container\">\n",
              "      <div>\n",
              "<style scoped>\n",
              "    .dataframe tbody tr th:only-of-type {\n",
              "        vertical-align: middle;\n",
              "    }\n",
              "\n",
              "    .dataframe tbody tr th {\n",
              "        vertical-align: top;\n",
              "    }\n",
              "\n",
              "    .dataframe thead th {\n",
              "        text-align: right;\n",
              "    }\n",
              "</style>\n",
              "<table border=\"1\" class=\"dataframe\">\n",
              "  <thead>\n",
              "    <tr style=\"text-align: right;\">\n",
              "      <th></th>\n",
              "      <th>Country</th>\n",
              "      <th>Year</th>\n",
              "      <th>Life_Expectancy</th>\n",
              "      <th>Adult_Mortality</th>\n",
              "      <th>Alcohol</th>\n",
              "      <th>Percentage_Expenditure</th>\n",
              "      <th>BMI</th>\n",
              "      <th>Total_Expenditure</th>\n",
              "      <th>GDP</th>\n",
              "      <th>Population</th>\n",
              "      <th>Schooling</th>\n",
              "    </tr>\n",
              "  </thead>\n",
              "  <tbody>\n",
              "    <tr>\n",
              "      <th>0</th>\n",
              "      <td>Afghanistan</td>\n",
              "      <td>2010</td>\n",
              "      <td>58.8</td>\n",
              "      <td>279</td>\n",
              "      <td>0.01</td>\n",
              "      <td>79.679367</td>\n",
              "      <td>16.7</td>\n",
              "      <td>9.20</td>\n",
              "      <td>553.328940</td>\n",
              "      <td>2883167</td>\n",
              "      <td>9.2</td>\n",
              "    </tr>\n",
              "    <tr>\n",
              "      <th>1</th>\n",
              "      <td>Afghanistan</td>\n",
              "      <td>2011</td>\n",
              "      <td>59.2</td>\n",
              "      <td>275</td>\n",
              "      <td>0.01</td>\n",
              "      <td>7.097109</td>\n",
              "      <td>17.2</td>\n",
              "      <td>7.87</td>\n",
              "      <td>63.537231</td>\n",
              "      <td>2978599</td>\n",
              "      <td>9.5</td>\n",
              "    </tr>\n",
              "    <tr>\n",
              "      <th>2</th>\n",
              "      <td>Afghanistan</td>\n",
              "      <td>2012</td>\n",
              "      <td>59.5</td>\n",
              "      <td>272</td>\n",
              "      <td>0.01</td>\n",
              "      <td>78.184215</td>\n",
              "      <td>17.6</td>\n",
              "      <td>8.52</td>\n",
              "      <td>669.959000</td>\n",
              "      <td>3696958</td>\n",
              "      <td>9.8</td>\n",
              "    </tr>\n",
              "    <tr>\n",
              "      <th>3</th>\n",
              "      <td>Afghanistan</td>\n",
              "      <td>2013</td>\n",
              "      <td>59.9</td>\n",
              "      <td>268</td>\n",
              "      <td>0.01</td>\n",
              "      <td>73.219243</td>\n",
              "      <td>18.1</td>\n",
              "      <td>8.13</td>\n",
              "      <td>631.744976</td>\n",
              "      <td>31731688</td>\n",
              "      <td>9.9</td>\n",
              "    </tr>\n",
              "    <tr>\n",
              "      <th>4</th>\n",
              "      <td>Afghanistan</td>\n",
              "      <td>2014</td>\n",
              "      <td>59.9</td>\n",
              "      <td>271</td>\n",
              "      <td>0.01</td>\n",
              "      <td>73.523582</td>\n",
              "      <td>18.6</td>\n",
              "      <td>8.18</td>\n",
              "      <td>612.696514</td>\n",
              "      <td>327582</td>\n",
              "      <td>10.0</td>\n",
              "    </tr>\n",
              "  </tbody>\n",
              "</table>\n",
              "</div>\n",
              "      <button class=\"colab-df-convert\" onclick=\"convertToInteractive('df-996aa237-5cbc-4794-9ca7-fd9a3f8b2e90')\"\n",
              "              title=\"Convert this dataframe to an interactive table.\"\n",
              "              style=\"display:none;\">\n",
              "        \n",
              "  <svg xmlns=\"http://www.w3.org/2000/svg\" height=\"24px\"viewBox=\"0 0 24 24\"\n",
              "       width=\"24px\">\n",
              "    <path d=\"M0 0h24v24H0V0z\" fill=\"none\"/>\n",
              "    <path d=\"M18.56 5.44l.94 2.06.94-2.06 2.06-.94-2.06-.94-.94-2.06-.94 2.06-2.06.94zm-11 1L8.5 8.5l.94-2.06 2.06-.94-2.06-.94L8.5 2.5l-.94 2.06-2.06.94zm10 10l.94 2.06.94-2.06 2.06-.94-2.06-.94-.94-2.06-.94 2.06-2.06.94z\"/><path d=\"M17.41 7.96l-1.37-1.37c-.4-.4-.92-.59-1.43-.59-.52 0-1.04.2-1.43.59L10.3 9.45l-7.72 7.72c-.78.78-.78 2.05 0 2.83L4 21.41c.39.39.9.59 1.41.59.51 0 1.02-.2 1.41-.59l7.78-7.78 2.81-2.81c.8-.78.8-2.07 0-2.86zM5.41 20L4 18.59l7.72-7.72 1.47 1.35L5.41 20z\"/>\n",
              "  </svg>\n",
              "      </button>\n",
              "      \n",
              "  <style>\n",
              "    .colab-df-container {\n",
              "      display:flex;\n",
              "      flex-wrap:wrap;\n",
              "      gap: 12px;\n",
              "    }\n",
              "\n",
              "    .colab-df-convert {\n",
              "      background-color: #E8F0FE;\n",
              "      border: none;\n",
              "      border-radius: 50%;\n",
              "      cursor: pointer;\n",
              "      display: none;\n",
              "      fill: #1967D2;\n",
              "      height: 32px;\n",
              "      padding: 0 0 0 0;\n",
              "      width: 32px;\n",
              "    }\n",
              "\n",
              "    .colab-df-convert:hover {\n",
              "      background-color: #E2EBFA;\n",
              "      box-shadow: 0px 1px 2px rgba(60, 64, 67, 0.3), 0px 1px 3px 1px rgba(60, 64, 67, 0.15);\n",
              "      fill: #174EA6;\n",
              "    }\n",
              "\n",
              "    [theme=dark] .colab-df-convert {\n",
              "      background-color: #3B4455;\n",
              "      fill: #D2E3FC;\n",
              "    }\n",
              "\n",
              "    [theme=dark] .colab-df-convert:hover {\n",
              "      background-color: #434B5C;\n",
              "      box-shadow: 0px 1px 3px 1px rgba(0, 0, 0, 0.15);\n",
              "      filter: drop-shadow(0px 1px 2px rgba(0, 0, 0, 0.3));\n",
              "      fill: #FFFFFF;\n",
              "    }\n",
              "  </style>\n",
              "\n",
              "      <script>\n",
              "        const buttonEl =\n",
              "          document.querySelector('#df-996aa237-5cbc-4794-9ca7-fd9a3f8b2e90 button.colab-df-convert');\n",
              "        buttonEl.style.display =\n",
              "          google.colab.kernel.accessAllowed ? 'block' : 'none';\n",
              "\n",
              "        async function convertToInteractive(key) {\n",
              "          const element = document.querySelector('#df-996aa237-5cbc-4794-9ca7-fd9a3f8b2e90');\n",
              "          const dataTable =\n",
              "            await google.colab.kernel.invokeFunction('convertToInteractive',\n",
              "                                                     [key], {});\n",
              "          if (!dataTable) return;\n",
              "\n",
              "          const docLinkHtml = 'Like what you see? Visit the ' +\n",
              "            '<a target=\"_blank\" href=https://colab.research.google.com/notebooks/data_table.ipynb>data table notebook</a>'\n",
              "            + ' to learn more about interactive tables.';\n",
              "          element.innerHTML = '';\n",
              "          dataTable['output_type'] = 'display_data';\n",
              "          await google.colab.output.renderOutput(dataTable, element);\n",
              "          const docLink = document.createElement('div');\n",
              "          docLink.innerHTML = docLinkHtml;\n",
              "          element.appendChild(docLink);\n",
              "        }\n",
              "      </script>\n",
              "    </div>\n",
              "  </div>\n",
              "  "
            ]
          },
          "metadata": {},
          "execution_count": 5
        }
      ]
    },
    {
      "cell_type": "markdown",
      "source": [
        "# **Part I: MySQL (16 points)**"
      ],
      "metadata": {
        "id": "SrKegb8JmAB_"
      }
    },
    {
      "cell_type": "markdown",
      "source": [
        "## **(1) Display total count of countries after data cleaning.**"
      ],
      "metadata": {
        "id": "1XXQ3jE4l79F"
      }
    },
    {
      "cell_type": "code",
      "source": [
        "# distinct number of countries\n",
        "\n",
        "LifeExpectancyDF.Country.nunique()\n",
        "\n"
      ],
      "metadata": {
        "colab": {
          "base_uri": "https://localhost:8080/"
        },
        "id": "1E1pTQbHl-am",
        "outputId": "6834da55-ca92-4682-e304-4ecd8a4eadf6"
      },
      "execution_count": 6,
      "outputs": [
        {
          "output_type": "execute_result",
          "data": {
            "text/plain": [
              "193"
            ]
          },
          "metadata": {},
          "execution_count": 6
        }
      ]
    },
    {
      "cell_type": "code",
      "source": [
        "# execute query and fetch results\n",
        "num_countries = execute_query('SELECT count(distinct Country) FROM Life_Expectancy')\n",
        "\n",
        "print(num_countries)\n",
        "\n"
      ],
      "metadata": {
        "colab": {
          "base_uri": "https://localhost:8080/"
        },
        "id": "nJzPl5RVmUMC",
        "outputId": "512c0711-20f3-49f8-da83-678a25a37045"
      },
      "execution_count": 7,
      "outputs": [
        {
          "output_type": "stream",
          "name": "stdout",
          "text": [
            "[(193,)]\n"
          ]
        }
      ]
    },
    {
      "cell_type": "markdown",
      "source": [
        "## **(2) List of countries with the highest and lowest average mortality rates.**\n",
        "\n",
        "* SELECT Country, avg(Adult_Mortality)\n",
        "* from Life_Expectancy\n",
        "* group by Country\n",
        "* order by avg(Adult_Mortality) asc limit 1;"
      ],
      "metadata": {
        "id": "KPdSsioGoTkz"
      }
    },
    {
      "cell_type": "code",
      "source": [
        "# execute query and fetch results\n",
        "lowest = execute_query('SELECT Country, avg(Adult_Mortality) from Life_Expectancy group by Country order by avg(Adult_Mortality) asc limit 1')\n",
        "highest = execute_query('SELECT Country, avg(Adult_Mortality) from Life_Expectancy group by Country order by avg(Adult_Mortality) desc limit 1')\n",
        "\n",
        "print(\"Lowest average mortality rate: \", lowest)\n",
        "print(\"Highest average mortality rate: \", highest)\n",
        "\n",
        "\n",
        "\n"
      ],
      "metadata": {
        "colab": {
          "base_uri": "https://localhost:8080/"
        },
        "id": "WuuaswkvornL",
        "outputId": "485c6295-3abb-48d5-de3b-48a6caad8cca"
      },
      "execution_count": 8,
      "outputs": [
        {
          "output_type": "stream",
          "name": "stdout",
          "text": [
            "Lowest average mortality rate:  [('Cook Islands', Decimal('0.0000'))]\n",
            "Highest average mortality rate:  [('Lesotho', Decimal('436.0000'))]\n"
          ]
        }
      ]
    },
    {
      "cell_type": "markdown",
      "source": [
        "**Extra credit: Pandas way to get min and max value**"
      ],
      "metadata": {
        "id": "Sri2fM_BAMqg"
      }
    },
    {
      "cell_type": "code",
      "source": [
        "dfMean = LifeExpectancyDF.groupby('Country').agg({'Adult_Mortality': ['mean']})"
      ],
      "metadata": {
        "id": "iS5A5Z87ALjR"
      },
      "execution_count": 9,
      "outputs": []
    },
    {
      "cell_type": "code",
      "source": [
        "# max value\n",
        "print(dfMean.idxmax(),dfMean.max(axis=0))"
      ],
      "metadata": {
        "id": "IdVUOOGnASVc",
        "outputId": "4641d520-5816-4711-d07a-5478b602d74c",
        "colab": {
          "base_uri": "https://localhost:8080/"
        }
      },
      "execution_count": 10,
      "outputs": [
        {
          "output_type": "stream",
          "name": "stdout",
          "text": [
            "Adult_Mortality  mean    Lesotho\n",
            "dtype: object Adult_Mortality  mean    436.0\n",
            "dtype: float64\n"
          ]
        }
      ]
    },
    {
      "cell_type": "code",
      "source": [
        "# min value\n",
        "print(dfMean.idxmin(),dfMean.min(axis=0))"
      ],
      "metadata": {
        "id": "ys1GM7z1Anna",
        "outputId": "2ab0dbeb-809a-4f46-c2db-1c79f577c19f",
        "colab": {
          "base_uri": "https://localhost:8080/"
        }
      },
      "execution_count": 25,
      "outputs": [
        {
          "output_type": "stream",
          "name": "stdout",
          "text": [
            "Adult_Mortality  mean    Cook Islands\n",
            "dtype: object Adult_Mortality  mean    0.0\n",
            "dtype: float64\n"
          ]
        }
      ]
    },
    {
      "cell_type": "markdown",
      "source": [
        "## **(3) List of countries with the highest and lowest average population.** "
      ],
      "metadata": {
        "id": "Jj6sEh-CsBND"
      }
    },
    {
      "cell_type": "code",
      "source": [
        "# execute query and fetch results\n",
        "lowest = execute_query('SELECT Country, avg(Population) from Life_Expectancy group by Country order by avg(Population) asc limit 1')\n",
        "highest = execute_query('SELECT Country, avg(Population) from Life_Expectancy group by Country order by avg(Population) desc limit 1')\n",
        "\n",
        "print(\"Lowest average population rate: \", lowest)\n",
        "print(\"Highest average population rate: \", highest)\n",
        "\n",
        "\n"
      ],
      "metadata": {
        "colab": {
          "base_uri": "https://localhost:8080/"
        },
        "id": "iMA5F1UesLq9",
        "outputId": "888df2f8-dc7e-44f9-9966-c00d2073ce42"
      },
      "execution_count": 12,
      "outputs": [
        {
          "output_type": "stream",
          "name": "stdout",
          "text": [
            "Lowest average population rate:  [('Antigua and Barbuda', Decimal('0.0000'))]\n",
            "Highest average population rate:  [('India', Decimal('281099848.5000'))]\n"
          ]
        }
      ]
    },
    {
      "cell_type": "markdown",
      "source": [
        "## **(4) List of countries with the highest and lowest average GDP.**"
      ],
      "metadata": {
        "id": "v-2HakV9smqY"
      }
    },
    {
      "cell_type": "code",
      "source": [
        "# execute query and fetch results\n",
        "lowest = execute_query('SELECT Country, avg(GDP) from Life_Expectancy group by Country order by avg(GDP) asc limit 1')\n",
        "highest = execute_query('SELECT Country, avg(GDP) from Life_Expectancy group by Country order by avg(GDP) desc limit 1')\n",
        "\n",
        "print(\"Lowest average GDP rate: \", lowest)\n",
        "print(\"Highest average GDP rate: \", highest)\n",
        "\n"
      ],
      "metadata": {
        "colab": {
          "base_uri": "https://localhost:8080/"
        },
        "id": "YTqFvivgsrId",
        "outputId": "a69a3452-1d44-4073-81f3-00c8adf8df90"
      },
      "execution_count": 13,
      "outputs": [
        {
          "output_type": "stream",
          "name": "stdout",
          "text": [
            "Lowest average GDP rate:  [('Bahamas', 0.0)]\n",
            "Highest average GDP rate:  [('Switzerland', 70817.14495)]\n"
          ]
        }
      ]
    },
    {
      "cell_type": "markdown",
      "source": [
        "## **(5) List of countries with the highest and lowest average Schooling.**\n"
      ],
      "metadata": {
        "id": "U2JxJ_7XtHAc"
      }
    },
    {
      "cell_type": "code",
      "source": [
        "# execute query and fetch results\n",
        "lowest = execute_query('SELECT Country, avg(Schooling) from Life_Expectancy group by Country order by avg(Schooling) asc limit 1')\n",
        "highest = execute_query('SELECT Country, avg(Schooling) from Life_Expectancy group by Country order by avg(Schooling) desc limit 1')\n",
        "\n",
        "print(\"Lowest average schooling rate: \", lowest)\n",
        "print(\"Highest average schooling rate: \", highest)\n",
        "\n",
        "\n"
      ],
      "metadata": {
        "colab": {
          "base_uri": "https://localhost:8080/"
        },
        "id": "5z8V8wREtLkU",
        "outputId": "26334e98-0aa0-460a-9117-b9f7c16665e6"
      },
      "execution_count": 14,
      "outputs": [
        {
          "output_type": "stream",
          "name": "stdout",
          "text": [
            "Lowest average schooling rate:  [(\"CÃ´te d'Ivoire\", 0.0)]\n",
            "Highest average schooling rate:  [('Australia', 20.083333333333332)]\n"
          ]
        }
      ]
    },
    {
      "cell_type": "markdown",
      "source": [
        "## **(6) Which countries have the highest and lowest average alcohol consumption?**"
      ],
      "metadata": {
        "id": "AKqdqFMktblb"
      }
    },
    {
      "cell_type": "code",
      "source": [
        "# execute query and fetch results\n",
        "lowest = execute_query('SELECT Country, avg(alcohol) from Life_Expectancy group by Country order by avg(alcohol) asc limit 1')\n",
        "highest = execute_query('SELECT Country, avg(alcohol) from Life_Expectancy group by Country order by avg(alcohol) desc limit 1')\n",
        "\n",
        "print(\"Lowest average alcohol consumption rate: \", lowest)\n",
        "print(\"Highest average alcohol consumption rate: \", highest)\n",
        "\n"
      ],
      "metadata": {
        "colab": {
          "base_uri": "https://localhost:8080/"
        },
        "id": "PX-RkdK7tfpj",
        "outputId": "a72a4c38-e7c0-49df-89b7-0b29e2b60ec8"
      },
      "execution_count": 15,
      "outputs": [
        {
          "output_type": "stream",
          "name": "stdout",
          "text": [
            "Lowest average alcohol consumption rate:  [('Palau', 0.0)]\n",
            "Highest average alcohol consumption rate:  [('Belarus', 12.783333333333333)]\n"
          ]
        }
      ]
    },
    {
      "cell_type": "markdown",
      "source": [
        "## **(7) Do densely populated countries tend to have lower life expectancy?**\n",
        "\n",
        "* As shown below, Sierra Leone with population of 1.7e+06 has LE of\n",
        "expectancy ~50 while Germany has LE of almost 85 with a population of 1.79e+07\n"
      ],
      "metadata": {
        "id": "mnqC03-zl4Y0"
      }
    },
    {
      "cell_type": "code",
      "source": [
        "# execute query and fetch results\n",
        "results1 = execute_query(' SELECT Country, avg(Population), avg(Life_Expectancy) ALE from Life_Expectancy group by Country ORDER BY ALE ASC limit 1')\n",
        "results2 = execute_query(' SELECT Country, avg(Population), avg(Life_Expectancy) ALE from Life_Expectancy group by Country ORDER BY ALE DESC limit 1')\n",
        "\n",
        "print(tabulate(results1))\n",
        "print(tabulate(results2))\n",
        "\n",
        "\n"
      ],
      "metadata": {
        "colab": {
          "base_uri": "https://localhost:8080/"
        },
        "id": "drdwF9oVuFof",
        "outputId": "f8943723-ab8a-4126-84bf-8f9d9734f354"
      },
      "execution_count": 16,
      "outputs": [
        {
          "output_type": "stream",
          "name": "stdout",
          "text": [
            "------------  -  -\n",
            "Cook Islands  0  0\n",
            "------------  -  -\n",
            "-------  -----------  -------\n",
            "Germany  1.79199e+07  84.6667\n",
            "-------  -----------  -------\n"
          ]
        }
      ]
    },
    {
      "cell_type": "markdown",
      "source": [
        "# **Part II: Python (24 Points)**"
      ],
      "metadata": {
        "id": "o3up5XGO4aBk"
      }
    },
    {
      "cell_type": "code",
      "source": [
        "# summary of the attribues\n",
        "\n",
        "LifeExpectancyDF.describe()\n",
        "\n",
        "\n"
      ],
      "metadata": {
        "colab": {
          "base_uri": "https://localhost:8080/",
          "height": 300
        },
        "id": "siXqYIm9Qvu-",
        "outputId": "8ca6eacb-9828-4aa4-8ae0-4e67b3f966d4"
      },
      "execution_count": 17,
      "outputs": [
        {
          "output_type": "execute_result",
          "data": {
            "text/plain": [
              "              Year  Life_Expectancy  Adult_Mortality      Alcohol  \\\n",
              "count  1108.000000      1108.000000      1108.000000  1108.000000   \n",
              "mean   2012.504513        70.360740       151.537906     3.534486   \n",
              "std       1.701526        10.924028       108.801185     4.082022   \n",
              "min    2010.000000         0.000000         0.000000     0.000000   \n",
              "25%    2011.000000        64.700000        68.000000     0.010000   \n",
              "50%    2013.000000        73.200000       137.500000     1.580000   \n",
              "75%    2014.000000        76.500000       218.250000     6.940000   \n",
              "max    2015.000000        89.000000       682.000000    17.310000   \n",
              "\n",
              "       Percentage_Expenditure          BMI  Total_Expenditure            GDP  \\\n",
              "count             1108.000000  1108.000000        1108.000000    1108.000000   \n",
              "mean               775.580667    40.222022           5.117428    7434.287882   \n",
              "std               2182.068813    21.313106           3.432399   15042.325206   \n",
              "min                  0.000000     0.000000           0.000000       0.000000   \n",
              "25%                  0.000000    22.100000           2.700000     339.308360   \n",
              "50%                 67.769172    46.400000           5.370000    1627.230915   \n",
              "75%                520.363423    59.025000           7.392500    6427.509974   \n",
              "max              19479.911610    87.300000          17.600000  119172.741800   \n",
              "\n",
              "         Population    Schooling  \n",
              "count  1.108000e+03  1108.000000  \n",
              "mean   1.031508e+07    11.990072  \n",
              "std    4.745932e+07     4.121145  \n",
              "min    0.000000e+00     0.000000  \n",
              "25%    4.893500e+03    10.300000  \n",
              "50%    5.715680e+05    12.800000  \n",
              "75%    5.141898e+06    14.600000  \n",
              "max    1.293859e+09    20.400000  "
            ],
            "text/html": [
              "\n",
              "  <div id=\"df-9e1da267-e58d-41ab-9335-2781afcfbe03\">\n",
              "    <div class=\"colab-df-container\">\n",
              "      <div>\n",
              "<style scoped>\n",
              "    .dataframe tbody tr th:only-of-type {\n",
              "        vertical-align: middle;\n",
              "    }\n",
              "\n",
              "    .dataframe tbody tr th {\n",
              "        vertical-align: top;\n",
              "    }\n",
              "\n",
              "    .dataframe thead th {\n",
              "        text-align: right;\n",
              "    }\n",
              "</style>\n",
              "<table border=\"1\" class=\"dataframe\">\n",
              "  <thead>\n",
              "    <tr style=\"text-align: right;\">\n",
              "      <th></th>\n",
              "      <th>Year</th>\n",
              "      <th>Life_Expectancy</th>\n",
              "      <th>Adult_Mortality</th>\n",
              "      <th>Alcohol</th>\n",
              "      <th>Percentage_Expenditure</th>\n",
              "      <th>BMI</th>\n",
              "      <th>Total_Expenditure</th>\n",
              "      <th>GDP</th>\n",
              "      <th>Population</th>\n",
              "      <th>Schooling</th>\n",
              "    </tr>\n",
              "  </thead>\n",
              "  <tbody>\n",
              "    <tr>\n",
              "      <th>count</th>\n",
              "      <td>1108.000000</td>\n",
              "      <td>1108.000000</td>\n",
              "      <td>1108.000000</td>\n",
              "      <td>1108.000000</td>\n",
              "      <td>1108.000000</td>\n",
              "      <td>1108.000000</td>\n",
              "      <td>1108.000000</td>\n",
              "      <td>1108.000000</td>\n",
              "      <td>1.108000e+03</td>\n",
              "      <td>1108.000000</td>\n",
              "    </tr>\n",
              "    <tr>\n",
              "      <th>mean</th>\n",
              "      <td>2012.504513</td>\n",
              "      <td>70.360740</td>\n",
              "      <td>151.537906</td>\n",
              "      <td>3.534486</td>\n",
              "      <td>775.580667</td>\n",
              "      <td>40.222022</td>\n",
              "      <td>5.117428</td>\n",
              "      <td>7434.287882</td>\n",
              "      <td>1.031508e+07</td>\n",
              "      <td>11.990072</td>\n",
              "    </tr>\n",
              "    <tr>\n",
              "      <th>std</th>\n",
              "      <td>1.701526</td>\n",
              "      <td>10.924028</td>\n",
              "      <td>108.801185</td>\n",
              "      <td>4.082022</td>\n",
              "      <td>2182.068813</td>\n",
              "      <td>21.313106</td>\n",
              "      <td>3.432399</td>\n",
              "      <td>15042.325206</td>\n",
              "      <td>4.745932e+07</td>\n",
              "      <td>4.121145</td>\n",
              "    </tr>\n",
              "    <tr>\n",
              "      <th>min</th>\n",
              "      <td>2010.000000</td>\n",
              "      <td>0.000000</td>\n",
              "      <td>0.000000</td>\n",
              "      <td>0.000000</td>\n",
              "      <td>0.000000</td>\n",
              "      <td>0.000000</td>\n",
              "      <td>0.000000</td>\n",
              "      <td>0.000000</td>\n",
              "      <td>0.000000e+00</td>\n",
              "      <td>0.000000</td>\n",
              "    </tr>\n",
              "    <tr>\n",
              "      <th>25%</th>\n",
              "      <td>2011.000000</td>\n",
              "      <td>64.700000</td>\n",
              "      <td>68.000000</td>\n",
              "      <td>0.010000</td>\n",
              "      <td>0.000000</td>\n",
              "      <td>22.100000</td>\n",
              "      <td>2.700000</td>\n",
              "      <td>339.308360</td>\n",
              "      <td>4.893500e+03</td>\n",
              "      <td>10.300000</td>\n",
              "    </tr>\n",
              "    <tr>\n",
              "      <th>50%</th>\n",
              "      <td>2013.000000</td>\n",
              "      <td>73.200000</td>\n",
              "      <td>137.500000</td>\n",
              "      <td>1.580000</td>\n",
              "      <td>67.769172</td>\n",
              "      <td>46.400000</td>\n",
              "      <td>5.370000</td>\n",
              "      <td>1627.230915</td>\n",
              "      <td>5.715680e+05</td>\n",
              "      <td>12.800000</td>\n",
              "    </tr>\n",
              "    <tr>\n",
              "      <th>75%</th>\n",
              "      <td>2014.000000</td>\n",
              "      <td>76.500000</td>\n",
              "      <td>218.250000</td>\n",
              "      <td>6.940000</td>\n",
              "      <td>520.363423</td>\n",
              "      <td>59.025000</td>\n",
              "      <td>7.392500</td>\n",
              "      <td>6427.509974</td>\n",
              "      <td>5.141898e+06</td>\n",
              "      <td>14.600000</td>\n",
              "    </tr>\n",
              "    <tr>\n",
              "      <th>max</th>\n",
              "      <td>2015.000000</td>\n",
              "      <td>89.000000</td>\n",
              "      <td>682.000000</td>\n",
              "      <td>17.310000</td>\n",
              "      <td>19479.911610</td>\n",
              "      <td>87.300000</td>\n",
              "      <td>17.600000</td>\n",
              "      <td>119172.741800</td>\n",
              "      <td>1.293859e+09</td>\n",
              "      <td>20.400000</td>\n",
              "    </tr>\n",
              "  </tbody>\n",
              "</table>\n",
              "</div>\n",
              "      <button class=\"colab-df-convert\" onclick=\"convertToInteractive('df-9e1da267-e58d-41ab-9335-2781afcfbe03')\"\n",
              "              title=\"Convert this dataframe to an interactive table.\"\n",
              "              style=\"display:none;\">\n",
              "        \n",
              "  <svg xmlns=\"http://www.w3.org/2000/svg\" height=\"24px\"viewBox=\"0 0 24 24\"\n",
              "       width=\"24px\">\n",
              "    <path d=\"M0 0h24v24H0V0z\" fill=\"none\"/>\n",
              "    <path d=\"M18.56 5.44l.94 2.06.94-2.06 2.06-.94-2.06-.94-.94-2.06-.94 2.06-2.06.94zm-11 1L8.5 8.5l.94-2.06 2.06-.94-2.06-.94L8.5 2.5l-.94 2.06-2.06.94zm10 10l.94 2.06.94-2.06 2.06-.94-2.06-.94-.94-2.06-.94 2.06-2.06.94z\"/><path d=\"M17.41 7.96l-1.37-1.37c-.4-.4-.92-.59-1.43-.59-.52 0-1.04.2-1.43.59L10.3 9.45l-7.72 7.72c-.78.78-.78 2.05 0 2.83L4 21.41c.39.39.9.59 1.41.59.51 0 1.02-.2 1.41-.59l7.78-7.78 2.81-2.81c.8-.78.8-2.07 0-2.86zM5.41 20L4 18.59l7.72-7.72 1.47 1.35L5.41 20z\"/>\n",
              "  </svg>\n",
              "      </button>\n",
              "      \n",
              "  <style>\n",
              "    .colab-df-container {\n",
              "      display:flex;\n",
              "      flex-wrap:wrap;\n",
              "      gap: 12px;\n",
              "    }\n",
              "\n",
              "    .colab-df-convert {\n",
              "      background-color: #E8F0FE;\n",
              "      border: none;\n",
              "      border-radius: 50%;\n",
              "      cursor: pointer;\n",
              "      display: none;\n",
              "      fill: #1967D2;\n",
              "      height: 32px;\n",
              "      padding: 0 0 0 0;\n",
              "      width: 32px;\n",
              "    }\n",
              "\n",
              "    .colab-df-convert:hover {\n",
              "      background-color: #E2EBFA;\n",
              "      box-shadow: 0px 1px 2px rgba(60, 64, 67, 0.3), 0px 1px 3px 1px rgba(60, 64, 67, 0.15);\n",
              "      fill: #174EA6;\n",
              "    }\n",
              "\n",
              "    [theme=dark] .colab-df-convert {\n",
              "      background-color: #3B4455;\n",
              "      fill: #D2E3FC;\n",
              "    }\n",
              "\n",
              "    [theme=dark] .colab-df-convert:hover {\n",
              "      background-color: #434B5C;\n",
              "      box-shadow: 0px 1px 3px 1px rgba(0, 0, 0, 0.15);\n",
              "      filter: drop-shadow(0px 1px 2px rgba(0, 0, 0, 0.3));\n",
              "      fill: #FFFFFF;\n",
              "    }\n",
              "  </style>\n",
              "\n",
              "      <script>\n",
              "        const buttonEl =\n",
              "          document.querySelector('#df-9e1da267-e58d-41ab-9335-2781afcfbe03 button.colab-df-convert');\n",
              "        buttonEl.style.display =\n",
              "          google.colab.kernel.accessAllowed ? 'block' : 'none';\n",
              "\n",
              "        async function convertToInteractive(key) {\n",
              "          const element = document.querySelector('#df-9e1da267-e58d-41ab-9335-2781afcfbe03');\n",
              "          const dataTable =\n",
              "            await google.colab.kernel.invokeFunction('convertToInteractive',\n",
              "                                                     [key], {});\n",
              "          if (!dataTable) return;\n",
              "\n",
              "          const docLinkHtml = 'Like what you see? Visit the ' +\n",
              "            '<a target=\"_blank\" href=https://colab.research.google.com/notebooks/data_table.ipynb>data table notebook</a>'\n",
              "            + ' to learn more about interactive tables.';\n",
              "          element.innerHTML = '';\n",
              "          dataTable['output_type'] = 'display_data';\n",
              "          await google.colab.output.renderOutput(dataTable, element);\n",
              "          const docLink = document.createElement('div');\n",
              "          docLink.innerHTML = docLinkHtml;\n",
              "          element.appendChild(docLink);\n",
              "        }\n",
              "      </script>\n",
              "    </div>\n",
              "  </div>\n",
              "  "
            ]
          },
          "metadata": {},
          "execution_count": 17
        }
      ]
    },
    {
      "cell_type": "markdown",
      "source": [
        "### **Data Visualization**"
      ],
      "metadata": {
        "id": "MS6cmQqh6tcR"
      }
    },
    {
      "cell_type": "code",
      "source": [
        "# histograms of numeric attributes\n",
        "\n",
        "LifeExpectancyDF.hist(bins=50, figsize=(20,15), column=['Adult_Mortality', 'Alcohol', 'Percentage_Expenditure', 'BMI', 'Total_Expenditure', 'GDP', 'Population', 'Schooling'])\n",
        "\n"
      ],
      "metadata": {
        "colab": {
          "base_uri": "https://localhost:8080/",
          "height": 1000
        },
        "id": "MAQFLS836vrx",
        "outputId": "a83c4766-5668-442e-87c4-a04a9643bb37"
      },
      "execution_count": 18,
      "outputs": [
        {
          "output_type": "execute_result",
          "data": {
            "text/plain": [
              "array([[<matplotlib.axes._subplots.AxesSubplot object at 0x7f304c071750>,\n",
              "        <matplotlib.axes._subplots.AxesSubplot object at 0x7f304c04b950>,\n",
              "        <matplotlib.axes._subplots.AxesSubplot object at 0x7f304c002f50>],\n",
              "       [<matplotlib.axes._subplots.AxesSubplot object at 0x7f304bfc6510>,\n",
              "        <matplotlib.axes._subplots.AxesSubplot object at 0x7f304bf7bb10>,\n",
              "        <matplotlib.axes._subplots.AxesSubplot object at 0x7f304bf3e150>],\n",
              "       [<matplotlib.axes._subplots.AxesSubplot object at 0x7f304bef5750>,\n",
              "        <matplotlib.axes._subplots.AxesSubplot object at 0x7f304beb5fd0>,\n",
              "        <matplotlib.axes._subplots.AxesSubplot object at 0x7f304beabd50>]],\n",
              "      dtype=object)"
            ]
          },
          "metadata": {},
          "execution_count": 18
        },
        {
          "output_type": "display_data",
          "data": {
            "text/plain": [
              "<Figure size 1440x1080 with 9 Axes>"
            ],
            "image/png": "[encoded data removed]"
          },
          "metadata": {
            "needs_background": "light"
          }
        }
      ]
    },
    {
      "cell_type": "markdown",
      "source": [
        "## **Pearson-r Correlations**\n",
        "\n"
      ],
      "metadata": {
        "id": "udjiMg_E7LRl"
      }
    },
    {
      "cell_type": "code",
      "source": [
        "# Sort the values to see which attributes have strong and weak relationships with LE\n",
        "\n",
        "corr_matrix = LifeExpectancyDF.corr()\n",
        "corr_matrix['Life_Expectancy'].sort_values(ascending=False)\n",
        "\n",
        "\n"
      ],
      "metadata": {
        "colab": {
          "base_uri": "https://localhost:8080/"
        },
        "id": "UkD5nOpJ7PDb",
        "outputId": "71b7973b-8c0a-431f-f526-15caea19794b"
      },
      "execution_count": 19,
      "outputs": [
        {
          "output_type": "execute_result",
          "data": {
            "text/plain": [
              "Life_Expectancy           1.000000\n",
              "Schooling                 0.514715\n",
              "BMI                       0.370011\n",
              "GDP                       0.360691\n",
              "Alcohol                   0.342385\n",
              "Percentage_Expenditure    0.302691\n",
              "Total_Expenditure         0.075930\n",
              "Year                      0.030965\n",
              "Population               -0.020249\n",
              "Adult_Mortality          -0.510431\n",
              "Name: Life_Expectancy, dtype: float64"
            ]
          },
          "metadata": {},
          "execution_count": 19
        }
      ]
    },
    {
      "cell_type": "markdown",
      "source": [
        "### **Note**\n",
        "\n",
        "* Schooling seems to be highly correlated with life expectancy\n",
        "* BMI, GDP, GDP, Alcohol, etc. have a mild correlation with Life Expectancy\n",
        "* Adult Mortality has a rather strong negative correlation with LE\n"
      ],
      "metadata": {
        "id": "r20-I9QU8_1a"
      }
    },
    {
      "cell_type": "code",
      "source": [
        "# draw the heatmap of the correlation matrix\n",
        "\n",
        "corr_matrix.style.background_gradient()\n",
        "\n",
        "\n",
        "\n"
      ],
      "metadata": {
        "colab": {
          "base_uri": "https://localhost:8080/",
          "height": 363
        },
        "id": "1K5ZcohF75Hs",
        "outputId": "8ea40f30-c985-4fe7-a5cd-97a1822eee35"
      },
      "execution_count": 20,
      "outputs": [
        {
          "output_type": "execute_result",
          "data": {
            "text/plain": [
              "<pandas.io.formats.style.Styler at 0x7f304be114d0>"
            ],
            "text/html": [
              "<style type=\"text/css\">\n",
              "#T_77866_row0_col0, #T_77866_row1_col1, #T_77866_row2_col2, #T_77866_row3_col3, #T_77866_row4_col4, #T_77866_row5_col5, #T_77866_row6_col6, #T_77866_row7_col7, #T_77866_row8_col8, #T_77866_row9_col9 {\n",
              "  background-color: #023858;\n",
              "  color: #f1f1f1;\n",
              "}\n",
              "#T_77866_row0_col1 {\n",
              "  background-color: #acc0dd;\n",
              "  color: #000000;\n",
              "}\n",
              "#T_77866_row0_col2, #T_77866_row9_col0 {\n",
              "  background-color: #bbc7e0;\n",
              "  color: #000000;\n",
              "}\n",
              "#T_77866_row0_col3, #T_77866_row0_col6, #T_77866_row1_col2, #T_77866_row2_col1, #T_77866_row2_col4, #T_77866_row2_col5, #T_77866_row2_col7, #T_77866_row2_col9, #T_77866_row5_col8, #T_77866_row6_col0 {\n",
              "  background-color: #fff7fb;\n",
              "  color: #000000;\n",
              "}\n",
              "#T_77866_row0_col4, #T_77866_row2_col3 {\n",
              "  background-color: #eee9f3;\n",
              "  color: #000000;\n",
              "}\n",
              "#T_77866_row0_col5, #T_77866_row5_col0, #T_77866_row6_col9 {\n",
              "  background-color: #b4c4df;\n",
              "  color: #000000;\n",
              "}\n",
              "#T_77866_row0_col7, #T_77866_row2_col6, #T_77866_row3_col2 {\n",
              "  background-color: #d9d8ea;\n",
              "  color: #000000;\n",
              "}\n",
              "#T_77866_row0_col8, #T_77866_row9_col2 {\n",
              "  background-color: #f2ecf5;\n",
              "  color: #000000;\n",
              "}\n",
              "#T_77866_row0_col9, #T_77866_row8_col0 {\n",
              "  background-color: #bfc9e1;\n",
              "  color: #000000;\n",
              "}\n",
              "#T_77866_row1_col0 {\n",
              "  background-color: #bcc7e1;\n",
              "  color: #000000;\n",
              "}\n",
              "#T_77866_row1_col3 {\n",
              "  background-color: #6fa7ce;\n",
              "  color: #f1f1f1;\n",
              "}\n",
              "#T_77866_row1_col4 {\n",
              "  background-color: #8fb4d6;\n",
              "  color: #000000;\n",
              "}\n",
              "#T_77866_row1_col5 {\n",
              "  background-color: #5a9ec9;\n",
              "  color: #f1f1f1;\n",
              "}\n",
              "#T_77866_row1_col6, #T_77866_row9_col6 {\n",
              "  background-color: #b0c2de;\n",
              "  color: #000000;\n",
              "}\n",
              "#T_77866_row1_col7 {\n",
              "  background-color: #73a9cf;\n",
              "  color: #f1f1f1;\n",
              "}\n",
              "#T_77866_row1_col8, #T_77866_row3_col0, #T_77866_row7_col8 {\n",
              "  background-color: #f8f1f8;\n",
              "  color: #000000;\n",
              "}\n",
              "#T_77866_row1_col9 {\n",
              "  background-color: #2c89bd;\n",
              "  color: #f1f1f1;\n",
              "}\n",
              "#T_77866_row2_col0 {\n",
              "  background-color: #cacee5;\n",
              "  color: #000000;\n",
              "}\n",
              "#T_77866_row2_col8 {\n",
              "  background-color: #f0eaf4;\n",
              "  color: #000000;\n",
              "}\n",
              "#T_77866_row3_col1 {\n",
              "  background-color: #549cc7;\n",
              "  color: #f1f1f1;\n",
              "}\n",
              "#T_77866_row3_col4, #T_77866_row4_col6 {\n",
              "  background-color: #7eadd1;\n",
              "  color: #f1f1f1;\n",
              "}\n",
              "#T_77866_row3_col5 {\n",
              "  background-color: #88b1d4;\n",
              "  color: #000000;\n",
              "}\n",
              "#T_77866_row3_col6 {\n",
              "  background-color: #3d93c2;\n",
              "  color: #f1f1f1;\n",
              "}\n",
              "#T_77866_row3_col7 {\n",
              "  background-color: #8cb3d5;\n",
              "  color: #000000;\n",
              "}\n",
              "#T_77866_row3_col8, #T_77866_row4_col8 {\n",
              "  background-color: #f7f0f7;\n",
              "  color: #000000;\n",
              "}\n",
              "#T_77866_row3_col9, #T_77866_row7_col3 {\n",
              "  background-color: #81aed2;\n",
              "  color: #f1f1f1;\n",
              "}\n",
              "#T_77866_row4_col0 {\n",
              "  background-color: #d6d6e9;\n",
              "  color: #000000;\n",
              "}\n",
              "#T_77866_row4_col1 {\n",
              "  background-color: #62a2cb;\n",
              "  color: #f1f1f1;\n",
              "}\n",
              "#T_77866_row4_col2 {\n",
              "  background-color: #dedcec;\n",
              "  color: #000000;\n",
              "}\n",
              "#T_77866_row4_col3, #T_77866_row9_col7 {\n",
              "  background-color: #69a5cc;\n",
              "  color: #f1f1f1;\n",
              "}\n",
              "#T_77866_row4_col5, #T_77866_row5_col3 {\n",
              "  background-color: #93b5d6;\n",
              "  color: #000000;\n",
              "}\n",
              "#T_77866_row4_col7 {\n",
              "  background-color: #045687;\n",
              "  color: #f1f1f1;\n",
              "}\n",
              "#T_77866_row4_col9 {\n",
              "  background-color: #71a8ce;\n",
              "  color: #f1f1f1;\n",
              "}\n",
              "#T_77866_row5_col1 {\n",
              "  background-color: #4a98c5;\n",
              "  color: #f1f1f1;\n",
              "}\n",
              "#T_77866_row5_col2 {\n",
              "  background-color: #f5eef6;\n",
              "  color: #000000;\n",
              "}\n",
              "#T_77866_row5_col4 {\n",
              "  background-color: #b3c3de;\n",
              "  color: #000000;\n",
              "}\n",
              "#T_77866_row5_col6, #T_77866_row6_col5 {\n",
              "  background-color: #a2bcda;\n",
              "  color: #000000;\n",
              "}\n",
              "#T_77866_row5_col7 {\n",
              "  background-color: #97b7d7;\n",
              "  color: #000000;\n",
              "}\n",
              "#T_77866_row5_col9 {\n",
              "  background-color: #60a1ca;\n",
              "  color: #f1f1f1;\n",
              "}\n",
              "#T_77866_row6_col1 {\n",
              "  background-color: #a1bbda;\n",
              "  color: #000000;\n",
              "}\n",
              "#T_77866_row6_col2 {\n",
              "  background-color: #cdd0e5;\n",
              "  color: #000000;\n",
              "}\n",
              "#T_77866_row6_col3 {\n",
              "  background-color: #4697c4;\n",
              "  color: #f1f1f1;\n",
              "}\n",
              "#T_77866_row6_col4 {\n",
              "  background-color: #9ebad9;\n",
              "  color: #000000;\n",
              "}\n",
              "#T_77866_row6_col7 {\n",
              "  background-color: #b9c6e0;\n",
              "  color: #000000;\n",
              "}\n",
              "#T_77866_row6_col8 {\n",
              "  background-color: #f9f2f8;\n",
              "  color: #000000;\n",
              "}\n",
              "#T_77866_row7_col0 {\n",
              "  background-color: #c5cce3;\n",
              "  color: #000000;\n",
              "}\n",
              "#T_77866_row7_col1 {\n",
              "  background-color: #4e9ac6;\n",
              "  color: #f1f1f1;\n",
              "}\n",
              "#T_77866_row7_col2 {\n",
              "  background-color: #e7e3f0;\n",
              "  color: #000000;\n",
              "}\n",
              "#T_77866_row7_col4 {\n",
              "  background-color: #045788;\n",
              "  color: #f1f1f1;\n",
              "}\n",
              "#T_77866_row7_col5 {\n",
              "  background-color: #83afd3;\n",
              "  color: #f1f1f1;\n",
              "}\n",
              "#T_77866_row7_col6 {\n",
              "  background-color: #a5bddb;\n",
              "  color: #000000;\n",
              "}\n",
              "#T_77866_row7_col9 {\n",
              "  background-color: #589ec8;\n",
              "  color: #f1f1f1;\n",
              "}\n",
              "#T_77866_row8_col1 {\n",
              "  background-color: #b7c5df;\n",
              "  color: #000000;\n",
              "}\n",
              "#T_77866_row8_col2 {\n",
              "  background-color: #abbfdc;\n",
              "  color: #000000;\n",
              "}\n",
              "#T_77866_row8_col3 {\n",
              "  background-color: #d2d2e7;\n",
              "  color: #000000;\n",
              "}\n",
              "#T_77866_row8_col4 {\n",
              "  background-color: #e2dfee;\n",
              "  color: #000000;\n",
              "}\n",
              "#T_77866_row8_col5 {\n",
              "  background-color: #d2d3e7;\n",
              "  color: #000000;\n",
              "}\n",
              "#T_77866_row8_col6 {\n",
              "  background-color: #c9cee4;\n",
              "  color: #000000;\n",
              "}\n",
              "#T_77866_row8_col7 {\n",
              "  background-color: #dad9ea;\n",
              "  color: #000000;\n",
              "}\n",
              "#T_77866_row8_col9 {\n",
              "  background-color: #c6cce3;\n",
              "  color: #000000;\n",
              "}\n",
              "#T_77866_row9_col1 {\n",
              "  background-color: #2182b9;\n",
              "  color: #f1f1f1;\n",
              "}\n",
              "#T_77866_row9_col3 {\n",
              "  background-color: #89b1d4;\n",
              "  color: #000000;\n",
              "}\n",
              "#T_77866_row9_col4 {\n",
              "  background-color: #8bb2d4;\n",
              "  color: #000000;\n",
              "}\n",
              "#T_77866_row9_col5 {\n",
              "  background-color: #5c9fc9;\n",
              "  color: #f1f1f1;\n",
              "}\n",
              "#T_77866_row9_col8 {\n",
              "  background-color: #f4eef6;\n",
              "  color: #000000;\n",
              "}\n",
              "</style>\n",
              "<table id=\"T_77866_\" class=\"dataframe\">\n",
              "  <thead>\n",
              "    <tr>\n",
              "      <th class=\"blank level0\" >&nbsp;</th>\n",
              "      <th class=\"col_heading level0 col0\" >Year</th>\n",
              "      <th class=\"col_heading level0 col1\" >Life_Expectancy</th>\n",
              "      <th class=\"col_heading level0 col2\" >Adult_Mortality</th>\n",
              "      <th class=\"col_heading level0 col3\" >Alcohol</th>\n",
              "      <th class=\"col_heading level0 col4\" >Percentage_Expenditure</th>\n",
              "      <th class=\"col_heading level0 col5\" >BMI</th>\n",
              "      <th class=\"col_heading level0 col6\" >Total_Expenditure</th>\n",
              "      <th class=\"col_heading level0 col7\" >GDP</th>\n",
              "      <th class=\"col_heading level0 col8\" >Population</th>\n",
              "      <th class=\"col_heading level0 col9\" >Schooling</th>\n",
              "    </tr>\n",
              "  </thead>\n",
              "  <tbody>\n",
              "    <tr>\n",
              "      <th id=\"T_77866_level0_row0\" class=\"row_heading level0 row0\" >Year</th>\n",
              "      <td id=\"T_77866_row0_col0\" class=\"data row0 col0\" >1.000000</td>\n",
              "      <td id=\"T_77866_row0_col1\" class=\"data row0 col1\" >0.030965</td>\n",
              "      <td id=\"T_77866_row0_col2\" class=\"data row0 col2\" >-0.034312</td>\n",
              "      <td id=\"T_77866_row0_col3\" class=\"data row0 col3\" >-0.341582</td>\n",
              "      <td id=\"T_77866_row0_col4\" class=\"data row0 col4\" >-0.090909</td>\n",
              "      <td id=\"T_77866_row0_col5\" class=\"data row0 col5\" >0.059506</td>\n",
              "      <td id=\"T_77866_row0_col6\" class=\"data row0 col6\" >-0.408900</td>\n",
              "      <td id=\"T_77866_row0_col7\" class=\"data row0 col7\" >-0.009417</td>\n",
              "      <td id=\"T_77866_row0_col8\" class=\"data row0 col8\" >0.019337</td>\n",
              "      <td id=\"T_77866_row0_col9\" class=\"data row0 col9\" >0.033810</td>\n",
              "    </tr>\n",
              "    <tr>\n",
              "      <th id=\"T_77866_level0_row1\" class=\"row_heading level0 row1\" >Life_Expectancy</th>\n",
              "      <td id=\"T_77866_row1_col0\" class=\"data row1 col0\" >0.030965</td>\n",
              "      <td id=\"T_77866_row1_col1\" class=\"data row1 col1\" >1.000000</td>\n",
              "      <td id=\"T_77866_row1_col2\" class=\"data row1 col2\" >-0.510431</td>\n",
              "      <td id=\"T_77866_row1_col3\" class=\"data row1 col3\" >0.342385</td>\n",
              "      <td id=\"T_77866_row1_col4\" class=\"data row1 col4\" >0.302691</td>\n",
              "      <td id=\"T_77866_row1_col5\" class=\"data row1 col5\" >0.370011</td>\n",
              "      <td id=\"T_77866_row1_col6\" class=\"data row1 col6\" >0.075930</td>\n",
              "      <td id=\"T_77866_row1_col7\" class=\"data row1 col7\" >0.360691</td>\n",
              "      <td id=\"T_77866_row1_col8\" class=\"data row1 col8\" >-0.020249</td>\n",
              "      <td id=\"T_77866_row1_col9\" class=\"data row1 col9\" >0.514715</td>\n",
              "    </tr>\n",
              "    <tr>\n",
              "      <th id=\"T_77866_level0_row2\" class=\"row_heading level0 row2\" >Adult_Mortality</th>\n",
              "      <td id=\"T_77866_row2_col0\" class=\"data row2 col0\" >-0.034312</td>\n",
              "      <td id=\"T_77866_row2_col1\" class=\"data row2 col1\" >-0.510431</td>\n",
              "      <td id=\"T_77866_row2_col2\" class=\"data row2 col2\" >1.000000</td>\n",
              "      <td id=\"T_77866_row2_col3\" class=\"data row2 col3\" >-0.194368</td>\n",
              "      <td id=\"T_77866_row2_col4\" class=\"data row2 col4\" >-0.225325</td>\n",
              "      <td id=\"T_77866_row2_col5\" class=\"data row2 col5\" >-0.409431</td>\n",
              "      <td id=\"T_77866_row2_col6\" class=\"data row2 col6\" >-0.117131</td>\n",
              "      <td id=\"T_77866_row2_col7\" class=\"data row2 col7\" >-0.282571</td>\n",
              "      <td id=\"T_77866_row2_col8\" class=\"data row2 col8\" >0.036494</td>\n",
              "      <td id=\"T_77866_row2_col9\" class=\"data row2 col9\" >-0.384551</td>\n",
              "    </tr>\n",
              "    <tr>\n",
              "      <th id=\"T_77866_level0_row3\" class=\"row_heading level0 row3\" >Alcohol</th>\n",
              "      <td id=\"T_77866_row3_col0\" class=\"data row3 col0\" >-0.341582</td>\n",
              "      <td id=\"T_77866_row3_col1\" class=\"data row3 col1\" >0.342385</td>\n",
              "      <td id=\"T_77866_row3_col2\" class=\"data row3 col2\" >-0.194368</td>\n",
              "      <td id=\"T_77866_row3_col3\" class=\"data row3 col3\" >1.000000</td>\n",
              "      <td id=\"T_77866_row3_col4\" class=\"data row3 col4\" >0.356469</td>\n",
              "      <td id=\"T_77866_row3_col5\" class=\"data row3 col5\" >0.228797</td>\n",
              "      <td id=\"T_77866_row3_col6\" class=\"data row3 col6\" >0.454184</td>\n",
              "      <td id=\"T_77866_row3_col7\" class=\"data row3 col7\" >0.283443</td>\n",
              "      <td id=\"T_77866_row3_col8\" class=\"data row3 col8\" >-0.015023</td>\n",
              "      <td id=\"T_77866_row3_col9\" class=\"data row3 col9\" >0.260280</td>\n",
              "    </tr>\n",
              "    <tr>\n",
              "      <th id=\"T_77866_level0_row4\" class=\"row_heading level0 row4\" >Percentage_Expenditure</th>\n",
              "      <td id=\"T_77866_row4_col0\" class=\"data row4 col0\" >-0.090909</td>\n",
              "      <td id=\"T_77866_row4_col1\" class=\"data row4 col1\" >0.302691</td>\n",
              "      <td id=\"T_77866_row4_col2\" class=\"data row4 col2\" >-0.225325</td>\n",
              "      <td id=\"T_77866_row4_col3\" class=\"data row4 col3\" >0.356469</td>\n",
              "      <td id=\"T_77866_row4_col4\" class=\"data row4 col4\" >1.000000</td>\n",
              "      <td id=\"T_77866_row4_col5\" class=\"data row4 col5\" >0.188870</td>\n",
              "      <td id=\"T_77866_row4_col6\" class=\"data row4 col6\" >0.258133</td>\n",
              "      <td id=\"T_77866_row4_col7\" class=\"data row4 col7\" >0.856853</td>\n",
              "      <td id=\"T_77866_row4_col8\" class=\"data row4 col8\" >-0.018192</td>\n",
              "      <td id=\"T_77866_row4_col9\" class=\"data row4 col9\" >0.315875</td>\n",
              "    </tr>\n",
              "    <tr>\n",
              "      <th id=\"T_77866_level0_row5\" class=\"row_heading level0 row5\" >BMI</th>\n",
              "      <td id=\"T_77866_row5_col0\" class=\"data row5 col0\" >0.059506</td>\n",
              "      <td id=\"T_77866_row5_col1\" class=\"data row5 col1\" >0.370011</td>\n",
              "      <td id=\"T_77866_row5_col2\" class=\"data row5 col2\" >-0.409431</td>\n",
              "      <td id=\"T_77866_row5_col3\" class=\"data row5 col3\" >0.228797</td>\n",
              "      <td id=\"T_77866_row5_col4\" class=\"data row5 col4\" >0.188870</td>\n",
              "      <td id=\"T_77866_row5_col5\" class=\"data row5 col5\" >1.000000</td>\n",
              "      <td id=\"T_77866_row5_col6\" class=\"data row5 col6\" >0.132539</td>\n",
              "      <td id=\"T_77866_row5_col7\" class=\"data row5 col7\" >0.245216</td>\n",
              "      <td id=\"T_77866_row5_col8\" class=\"data row5 col8\" >-0.072745</td>\n",
              "      <td id=\"T_77866_row5_col9\" class=\"data row5 col9\" >0.363704</td>\n",
              "    </tr>\n",
              "    <tr>\n",
              "      <th id=\"T_77866_level0_row6\" class=\"row_heading level0 row6\" >Total_Expenditure</th>\n",
              "      <td id=\"T_77866_row6_col0\" class=\"data row6 col0\" >-0.408900</td>\n",
              "      <td id=\"T_77866_row6_col1\" class=\"data row6 col1\" >0.075930</td>\n",
              "      <td id=\"T_77866_row6_col2\" class=\"data row6 col2\" >-0.117131</td>\n",
              "      <td id=\"T_77866_row6_col3\" class=\"data row6 col3\" >0.454184</td>\n",
              "      <td id=\"T_77866_row6_col4\" class=\"data row6 col4\" >0.258133</td>\n",
              "      <td id=\"T_77866_row6_col5\" class=\"data row6 col5\" >0.132539</td>\n",
              "      <td id=\"T_77866_row6_col6\" class=\"data row6 col6\" >1.000000</td>\n",
              "      <td id=\"T_77866_row6_col7\" class=\"data row6 col7\" >0.123535</td>\n",
              "      <td id=\"T_77866_row6_col8\" class=\"data row6 col8\" >-0.028932</td>\n",
              "      <td id=\"T_77866_row6_col9\" class=\"data row6 col9\" >0.079496</td>\n",
              "    </tr>\n",
              "    <tr>\n",
              "      <th id=\"T_77866_level0_row7\" class=\"row_heading level0 row7\" >GDP</th>\n",
              "      <td id=\"T_77866_row7_col0\" class=\"data row7 col0\" >-0.009417</td>\n",
              "      <td id=\"T_77866_row7_col1\" class=\"data row7 col1\" >0.360691</td>\n",
              "      <td id=\"T_77866_row7_col2\" class=\"data row7 col2\" >-0.282571</td>\n",
              "      <td id=\"T_77866_row7_col3\" class=\"data row7 col3\" >0.283443</td>\n",
              "      <td id=\"T_77866_row7_col4\" class=\"data row7 col4\" >0.856853</td>\n",
              "      <td id=\"T_77866_row7_col5\" class=\"data row7 col5\" >0.245216</td>\n",
              "      <td id=\"T_77866_row7_col6\" class=\"data row7 col6\" >0.123535</td>\n",
              "      <td id=\"T_77866_row7_col7\" class=\"data row7 col7\" >1.000000</td>\n",
              "      <td id=\"T_77866_row7_col8\" class=\"data row7 col8\" >-0.020904</td>\n",
              "      <td id=\"T_77866_row7_col9\" class=\"data row7 col9\" >0.386360</td>\n",
              "    </tr>\n",
              "    <tr>\n",
              "      <th id=\"T_77866_level0_row8\" class=\"row_heading level0 row8\" >Population</th>\n",
              "      <td id=\"T_77866_row8_col0\" class=\"data row8 col0\" >0.019337</td>\n",
              "      <td id=\"T_77866_row8_col1\" class=\"data row8 col1\" >-0.020249</td>\n",
              "      <td id=\"T_77866_row8_col2\" class=\"data row8 col2\" >0.036494</td>\n",
              "      <td id=\"T_77866_row8_col3\" class=\"data row8 col3\" >-0.015023</td>\n",
              "      <td id=\"T_77866_row8_col4\" class=\"data row8 col4\" >-0.018192</td>\n",
              "      <td id=\"T_77866_row8_col5\" class=\"data row8 col5\" >-0.072745</td>\n",
              "      <td id=\"T_77866_row8_col6\" class=\"data row8 col6\" >-0.028932</td>\n",
              "      <td id=\"T_77866_row8_col7\" class=\"data row8 col7\" >-0.020904</td>\n",
              "      <td id=\"T_77866_row8_col8\" class=\"data row8 col8\" >1.000000</td>\n",
              "      <td id=\"T_77866_row8_col9\" class=\"data row8 col9\" >0.004196</td>\n",
              "    </tr>\n",
              "    <tr>\n",
              "      <th id=\"T_77866_level0_row9\" class=\"row_heading level0 row9\" >Schooling</th>\n",
              "      <td id=\"T_77866_row9_col0\" class=\"data row9 col0\" >0.033810</td>\n",
              "      <td id=\"T_77866_row9_col1\" class=\"data row9 col1\" >0.514715</td>\n",
              "      <td id=\"T_77866_row9_col2\" class=\"data row9 col2\" >-0.384551</td>\n",
              "      <td id=\"T_77866_row9_col3\" class=\"data row9 col3\" >0.260280</td>\n",
              "      <td id=\"T_77866_row9_col4\" class=\"data row9 col4\" >0.315875</td>\n",
              "      <td id=\"T_77866_row9_col5\" class=\"data row9 col5\" >0.363704</td>\n",
              "      <td id=\"T_77866_row9_col6\" class=\"data row9 col6\" >0.079496</td>\n",
              "      <td id=\"T_77866_row9_col7\" class=\"data row9 col7\" >0.386360</td>\n",
              "      <td id=\"T_77866_row9_col8\" class=\"data row9 col8\" >0.004196</td>\n",
              "      <td id=\"T_77866_row9_col9\" class=\"data row9 col9\" >1.000000</td>\n",
              "    </tr>\n",
              "  </tbody>\n",
              "</table>\n"
            ]
          },
          "metadata": {},
          "execution_count": 20
        }
      ]
    },
    {
      "cell_type": "markdown",
      "source": [
        "## **Regression Models**"
      ],
      "metadata": {
        "id": "lEnunDka-cQp"
      }
    },
    {
      "cell_type": "code",
      "source": [
        "from sklearn.linear_model import LinearRegression\n",
        "import matplotlib.pyplot as plt\n",
        "\n",
        "#######################################################\n",
        "# Model 1: Life_Expectancy vs. Schooling\n",
        "#######################################################\n",
        "X1 = LifeExpectancyDF.loc[:, 'Schooling'].values.reshape(-1,1)\n",
        "Y1 = LifeExpectancyDF.loc[:, 'Life_Expectancy'].values.reshape(-1,1)\n",
        "LRmodel1 = LinearRegression()\n",
        "\n",
        "# fit the model and make predictions\n",
        "LRmodel1.fit(X1, Y1)\n",
        "Y1_pred = LRmodel1.predict(X1)\n",
        "\n",
        "\n",
        "#######################################################\n",
        "# Model 2: Life_Expectancy vs. BMI\n",
        "#######################################################\n",
        "X2 = LifeExpectancyDF.loc[:, 'BMI'].values.reshape(-1,1)\n",
        "LRmodel2 = LinearRegression()\n",
        "\n",
        "# fit the model and make predictions\n",
        "LRmodel2.fit(X2, Y1)\n",
        "Y2_pred = LRmodel2.predict(X2)\n",
        "\n",
        "#######################################################\n",
        "# Model 3: Life_Expectancy vs. Adult Mortality\n",
        "#######################################################\n",
        "X3 = LifeExpectancyDF.loc[:, 'Adult_Mortality'].values.reshape(-1,1)\n",
        "LRmodel3 = LinearRegression()\n",
        "\n",
        "# fit the model and make predictions\n",
        "LRmodel3.fit(X3, Y1)\n",
        "Y3_pred = LRmodel3.predict(X3)\n",
        "\n",
        "\n",
        "#######################################################\n",
        "# plot all three regression models\n",
        "#######################################################\n",
        "plt.scatter(X1, Y1)\n",
        "plt.plot(X1, Y1_pred, color='red')\n",
        "plt.xlabel(\"Schooling\")\n",
        "plt.ylabel(\"Life Expectancy\")\n",
        "title1 = \"Life Expectancy = \" + str(round(LRmodel1.intercept_[0],2)) + \" + \" + str(round(LRmodel1.coef_[0][0],2)) + \" x Schooling\"\n",
        "plt.title(title1, fontsize=15)\n",
        "plt.show()\n",
        "\n",
        "\n",
        "\n",
        "plt.scatter(X2, Y1)\n",
        "plt.plot(X2, Y2_pred, color='red')\n",
        "plt.xlabel(\"BMI\")\n",
        "plt.ylabel(\"Life Expectancy\")\n",
        "title1 = \"Life Expectancy = \" + str(round(LRmodel2.intercept_[0],2)) + \" + \" + str(round(LRmodel2.coef_[0][0],2)) + \" x BMI\"\n",
        "plt.title(title1, fontsize=15)\n",
        "plt.show()\n",
        "\n",
        "\n",
        "\n",
        "plt.scatter(X3, Y1)\n",
        "plt.plot(X3, Y3_pred, color='red')\n",
        "plt.xlabel(\"Adult Mortality\")\n",
        "plt.ylabel(\"Life Expectancy\")\n",
        "title1 = \"Life Expectancy = \" + str(round(LRmodel3.intercept_[0],2)) + \" + \" + str(round(LRmodel3.coef_[0][0],2)) + \" x Adult_Mortality\"\n",
        "plt.title(title1, fontsize=15)\n",
        "plt.show()\n",
        "\n",
        "\n"
      ],
      "metadata": {
        "colab": {
          "base_uri": "https://localhost:8080/",
          "height": 857
        },
        "id": "IzfE6eKQ-lG6",
        "outputId": "0431735f-2b0d-4765-ea37-01add2b3825f"
      },
      "execution_count": 21,
      "outputs": [
        {
          "output_type": "display_data",
          "data": {
            "text/plain": [
              "<Figure size 432x288 with 1 Axes>"
            ],
            "image/png": "[encoded data removed]"
          },
          "metadata": {
            "needs_background": "light"
          }
        },
        {
          "output_type": "display_data",
          "data": {
            "text/plain": [
              "<Figure size 432x288 with 1 Axes>"
            ],
            "image/png": "[encoded data removed]"
          },
          "metadata": {
            "needs_background": "light"
          }
        },
        {
          "output_type": "display_data",
          "data": {
            "text/plain": [
              "<Figure size 432x288 with 1 Axes>"
            ],
            "image/png": "[encoded data removed]"
          },
          "metadata": {
            "needs_background": "light"
          }
        }
      ]
    },
    {
      "cell_type": "markdown",
      "source": [
        "## **Model Comparisons**\n",
        "* Compute MSE values \n",
        "* Compute R2 scores\n",
        "* Plot the results\n",
        "\n"
      ],
      "metadata": {
        "id": "q_onEfJySQFy"
      }
    },
    {
      "cell_type": "code",
      "source": [
        "# Summarize the findings for all models\n",
        "\n",
        "from sklearn.metrics import mean_squared_error, r2_score\n",
        "import numpy as np\n",
        "\n",
        "# model 1 MSE and r2 values\n",
        "m1_mse = mean_squared_error(Y1, Y1_pred)\n",
        "m1_r2 = r2_score(Y1, Y1_pred)\n",
        "\n",
        "\n",
        "# model 2 MSE and r2 values\n",
        "m2_mse = mean_squared_error(Y1, Y2_pred)\n",
        "m2_r2 = r2_score(Y1, Y2_pred)\n",
        "\n",
        "# model 3 MSE and r2 values\n",
        "m3_mse = mean_squared_error(Y1, Y3_pred)\n",
        "m3_r2 = r2_score(Y1, Y3_pred)\n",
        "\n",
        "\n",
        "\n",
        "\n"
      ],
      "metadata": {
        "id": "jGMvx3h8SWW6"
      },
      "execution_count": 22,
      "outputs": []
    },
    {
      "cell_type": "markdown",
      "source": [
        "### **Model R2 Values**\n"
      ],
      "metadata": {
        "id": "1Drjc2szJy1X"
      }
    },
    {
      "cell_type": "code",
      "source": [
        "# prepare these for plotting\n",
        "\n",
        "labels = ['Schooling', 'BMI', 'Adult_Mortality']\n",
        "mse_values = [m1_mse, m2_mse, m3_mse]\n",
        "r2_values =  [m1_r2,  m2_r2,  m3_r2]\n",
        "\n",
        "x = np.arange(len(labels))  # the label locations\n",
        "width = 0.35  # the width of the bars\n",
        "\n",
        "fig, ax = plt.subplots()\n",
        "rects1 = ax.bar(x + width/2, r2_values, width, label='R2', color='green')\n",
        "\n",
        "# Add some text for labels, title and custom x-axis tick labels, etc.\n",
        "ax.set_ylabel('Model Accuracy')\n",
        "ax.set_xticks(x)\n",
        "#ax.set_ylim(0,1)\n",
        "ax.set_xticklabels(labels)\n",
        "ax.legend(bbox_to_anchor = (1.3, 1.0), loc='upper right')\n",
        "\n",
        "plt.title('R2 Values')\n",
        "plt.show()\n",
        "\n"
      ],
      "metadata": {
        "colab": {
          "base_uri": "https://localhost:8080/",
          "height": 282
        },
        "id": "RxqE1Gq2J6k2",
        "outputId": "716f4f63-bff0-4973-eaed-617b4aef889b"
      },
      "execution_count": 23,
      "outputs": [
        {
          "output_type": "display_data",
          "data": {
            "text/plain": [
              "<Figure size 432x288 with 1 Axes>"
            ],
            "image/png": "[encoded data removed]"
          },
          "metadata": {
            "needs_background": "light"
          }
        }
      ]
    },
    {
      "cell_type": "markdown",
      "source": [
        "### **Model MSE Values**"
      ],
      "metadata": {
        "id": "6Sz76yHKKDVF"
      }
    },
    {
      "cell_type": "code",
      "source": [
        "fig, ax = plt.subplots()\n",
        "rects1 = ax.bar(x - width/2, mse_values, width, label='MSE', color='red')\n",
        "\n",
        "\n",
        "# Add some text for labels, title and custom x-axis tick labels, etc.\n",
        "ax.set_ylabel('Model Error')\n",
        "ax.set_xticks(x)\n",
        "#ax.set_ylim(0,1)\n",
        "ax.set_xticklabels(labels)\n",
        "ax.legend(bbox_to_anchor = (1.3, 1.0), loc='upper right')\n",
        "\n",
        "plt.title('MSE Values')\n",
        "plt.show()\n",
        "\n",
        "\n"
      ],
      "metadata": {
        "colab": {
          "base_uri": "https://localhost:8080/",
          "height": 282
        },
        "id": "2L_jTktzKH28",
        "outputId": "6b4607db-cf36-47f8-e1b5-95b54255008e"
      },
      "execution_count": 24,
      "outputs": [
        {
          "output_type": "display_data",
          "data": {
            "text/plain": [
              "<Figure size 432x288 with 1 Axes>"
            ],
            "image/png": "[encoded data removed]"
          },
          "metadata": {
            "needs_background": "light"
          }
        }
      ]
    },
    {
      "cell_type": "markdown",
      "source": [
        "## **Regression Model Comparisons**\n",
        "\n",
        "* Model 1 with **Schooling** has the largest R2 score and the lowest MSE value.\n",
        "* Model 2 with **BMI** has the lowest R2 score and the highest MSE value.\n",
        "* Models 1 and 3 make comparabale predictions."
      ],
      "metadata": {
        "id": "OgEsrhbpMQHA"
      }
    }
  ]
}